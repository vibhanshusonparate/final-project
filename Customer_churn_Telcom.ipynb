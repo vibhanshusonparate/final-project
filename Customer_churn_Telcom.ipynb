{
 "cells": [
  {
   "cell_type": "code",
   "execution_count": 5,
   "id": "73a3341c",
   "metadata": {},
   "outputs": [
    {
     "name": "stdout",
     "output_type": "stream",
     "text": [
      "Warning: Looks like you're using an outdated `kagglehub` version (installed: 0.3.10), please consider upgrading to the latest version (0.3.12).\n"
     ]
    }
   ],
   "source": [
    "import kagglehub\n",
    "path = kagglehub.dataset_download(\"lasaljaywardena/real-world-churn\")\n"
   ]
  },
  {
   "cell_type": "code",
   "execution_count": 4,
   "id": "5b4efd21",
   "metadata": {},
   "outputs": [
    {
     "name": "stdout",
     "output_type": "stream",
     "text": [
      "Requirement already satisfied: kagglehub in d:\\anaconda\\lib\\site-packages (0.3.12)\n",
      "Requirement already satisfied: packaging in d:\\anaconda\\lib\\site-packages (from kagglehub) (23.0)\n",
      "Requirement already satisfied: pyyaml in d:\\anaconda\\lib\\site-packages (from kagglehub) (6.0)\n",
      "Requirement already satisfied: requests in d:\\anaconda\\lib\\site-packages (from kagglehub) (2.29.0)\n",
      "Requirement already satisfied: tqdm in d:\\anaconda\\lib\\site-packages (from kagglehub) (4.65.0)\n",
      "Requirement already satisfied: charset-normalizer<4,>=2 in d:\\anaconda\\lib\\site-packages (from requests->kagglehub) (2.0.4)\n",
      "Requirement already satisfied: idna<4,>=2.5 in d:\\anaconda\\lib\\site-packages (from requests->kagglehub) (3.4)\n",
      "Requirement already satisfied: urllib3<1.27,>=1.21.1 in d:\\anaconda\\lib\\site-packages (from requests->kagglehub) (1.26.16)\n",
      "Requirement already satisfied: certifi>=2017.4.17 in d:\\anaconda\\lib\\site-packages (from requests->kagglehub) (2023.5.7)\n",
      "Requirement already satisfied: colorama in d:\\anaconda\\lib\\site-packages (from tqdm->kagglehub) (0.4.6)\n"
     ]
    }
   ],
   "source": [
    "!pip install --upgrade kagglehub\n"
   ]
  },
  {
   "cell_type": "code",
   "execution_count": 6,
   "id": "5ff896df",
   "metadata": {},
   "outputs": [
    {
     "name": "stdout",
     "output_type": "stream",
     "text": [
      "Warning: Looks like you're using an outdated `kagglehub` version (installed: 0.3.10), please consider upgrading to the latest version (0.3.12).\n",
      "Path to dataset files: C:\\Users\\SHAIVIK\\.cache\\kagglehub\\datasets\\lasaljaywardena\\real-world-churn\\versions\\1\n"
     ]
    }
   ],
   "source": [
    "import kagglehub\n",
    "\n",
    "# Download latest version of the dataset\n",
    "path = kagglehub.dataset_download(\"lasaljaywardena/real-world-churn\")\n",
    "\n",
    "print(\"Path to dataset files:\", path)\n"
   ]
  },
  {
   "cell_type": "code",
   "execution_count": 7,
   "id": "02a10348",
   "metadata": {},
   "outputs": [
    {
     "name": "stdout",
     "output_type": "stream",
     "text": [
      "['main.csv', 'raw_dump', 'test', 'train', 'usage_data']\n"
     ]
    }
   ],
   "source": [
    "import os\n",
    "\n",
    "# List files in the dataset directory\n",
    "print(os.listdir(path))\n"
   ]
  },
  {
   "cell_type": "code",
   "execution_count": 9,
   "id": "91bb788a",
   "metadata": {},
   "outputs": [
    {
     "data": {
      "text/html": [
       "<div>\n",
       "<style scoped>\n",
       "    .dataframe tbody tr th:only-of-type {\n",
       "        vertical-align: middle;\n",
       "    }\n",
       "\n",
       "    .dataframe tbody tr th {\n",
       "        vertical-align: top;\n",
       "    }\n",
       "\n",
       "    .dataframe thead th {\n",
       "        text-align: right;\n",
       "    }\n",
       "</style>\n",
       "<table border=\"1\" class=\"dataframe\">\n",
       "  <thead>\n",
       "    <tr style=\"text-align: right;\">\n",
       "      <th></th>\n",
       "      <th>customer_id</th>\n",
       "      <th>usage_type</th>\n",
       "      <th>Day_1</th>\n",
       "      <th>Day_2</th>\n",
       "      <th>Day_3</th>\n",
       "      <th>Day_4</th>\n",
       "      <th>Day_5</th>\n",
       "      <th>Day_6</th>\n",
       "      <th>Day_7</th>\n",
       "      <th>Day_8</th>\n",
       "      <th>...</th>\n",
       "      <th>Day_81</th>\n",
       "      <th>Day_82</th>\n",
       "      <th>Day_83</th>\n",
       "      <th>Day_84</th>\n",
       "      <th>Day_85</th>\n",
       "      <th>Day_86</th>\n",
       "      <th>Day_87</th>\n",
       "      <th>Day_88</th>\n",
       "      <th>Day_89</th>\n",
       "      <th>Day_90</th>\n",
       "    </tr>\n",
       "  </thead>\n",
       "  <tbody>\n",
       "    <tr>\n",
       "      <th>0</th>\n",
       "      <td>e9126f469646506b8e82b4214d075bf72d9d324d357650...</td>\n",
       "      <td>usage_app_other</td>\n",
       "      <td>53.00</td>\n",
       "      <td>130.73</td>\n",
       "      <td>7.86</td>\n",
       "      <td>67.71</td>\n",
       "      <td>153.38</td>\n",
       "      <td>35.92</td>\n",
       "      <td>128.60</td>\n",
       "      <td>30.61</td>\n",
       "      <td>...</td>\n",
       "      <td>0.0</td>\n",
       "      <td>0.0</td>\n",
       "      <td>0.0</td>\n",
       "      <td>0.0</td>\n",
       "      <td>0.00</td>\n",
       "      <td>0.0</td>\n",
       "      <td>0.0</td>\n",
       "      <td>0.0</td>\n",
       "      <td>0.00</td>\n",
       "      <td>0.0</td>\n",
       "    </tr>\n",
       "    <tr>\n",
       "      <th>1</th>\n",
       "      <td>e9126f469646506b8e82b4214d075bf72d9d324d357650...</td>\n",
       "      <td>usage_app_youtube_daily</td>\n",
       "      <td>98.50</td>\n",
       "      <td>0.00</td>\n",
       "      <td>284.82</td>\n",
       "      <td>150.05</td>\n",
       "      <td>0.00</td>\n",
       "      <td>261.89</td>\n",
       "      <td>44.89</td>\n",
       "      <td>0.00</td>\n",
       "      <td>...</td>\n",
       "      <td>0.0</td>\n",
       "      <td>0.0</td>\n",
       "      <td>0.0</td>\n",
       "      <td>0.0</td>\n",
       "      <td>0.00</td>\n",
       "      <td>0.0</td>\n",
       "      <td>0.0</td>\n",
       "      <td>0.0</td>\n",
       "      <td>50.28</td>\n",
       "      <td>0.0</td>\n",
       "    </tr>\n",
       "    <tr>\n",
       "      <th>2</th>\n",
       "      <td>e9126f469646506b8e82b4214d075bf72d9d324d357650...</td>\n",
       "      <td>usage_app_facebook_daily</td>\n",
       "      <td>79.42</td>\n",
       "      <td>72.61</td>\n",
       "      <td>72.15</td>\n",
       "      <td>82.82</td>\n",
       "      <td>61.06</td>\n",
       "      <td>57.91</td>\n",
       "      <td>55.59</td>\n",
       "      <td>56.46</td>\n",
       "      <td>...</td>\n",
       "      <td>0.0</td>\n",
       "      <td>0.0</td>\n",
       "      <td>0.0</td>\n",
       "      <td>0.0</td>\n",
       "      <td>0.00</td>\n",
       "      <td>0.0</td>\n",
       "      <td>0.0</td>\n",
       "      <td>0.0</td>\n",
       "      <td>0.00</td>\n",
       "      <td>0.0</td>\n",
       "    </tr>\n",
       "    <tr>\n",
       "      <th>3</th>\n",
       "      <td>e9126f469646506b8e82b4214d075bf72d9d324d357650...</td>\n",
       "      <td>usage_app_tiktok_daily</td>\n",
       "      <td>53.22</td>\n",
       "      <td>65.80</td>\n",
       "      <td>52.87</td>\n",
       "      <td>59.78</td>\n",
       "      <td>50.75</td>\n",
       "      <td>52.37</td>\n",
       "      <td>44.12</td>\n",
       "      <td>40.88</td>\n",
       "      <td>...</td>\n",
       "      <td>0.0</td>\n",
       "      <td>0.0</td>\n",
       "      <td>0.0</td>\n",
       "      <td>0.0</td>\n",
       "      <td>0.00</td>\n",
       "      <td>0.0</td>\n",
       "      <td>0.0</td>\n",
       "      <td>0.0</td>\n",
       "      <td>0.00</td>\n",
       "      <td>0.0</td>\n",
       "    </tr>\n",
       "    <tr>\n",
       "      <th>4</th>\n",
       "      <td>e9126f469646506b8e82b4214d075bf72d9d324d357650...</td>\n",
       "      <td>usage_app_whatsapp_daily</td>\n",
       "      <td>0.00</td>\n",
       "      <td>4.18</td>\n",
       "      <td>20.33</td>\n",
       "      <td>7.89</td>\n",
       "      <td>18.37</td>\n",
       "      <td>7.17</td>\n",
       "      <td>5.22</td>\n",
       "      <td>12.77</td>\n",
       "      <td>...</td>\n",
       "      <td>0.0</td>\n",
       "      <td>0.0</td>\n",
       "      <td>0.0</td>\n",
       "      <td>0.0</td>\n",
       "      <td>2.31</td>\n",
       "      <td>0.0</td>\n",
       "      <td>0.0</td>\n",
       "      <td>0.0</td>\n",
       "      <td>1.22</td>\n",
       "      <td>0.0</td>\n",
       "    </tr>\n",
       "  </tbody>\n",
       "</table>\n",
       "<p>5 rows × 92 columns</p>\n",
       "</div>"
      ],
      "text/plain": [
       "                                         customer_id  \\\n",
       "0  e9126f469646506b8e82b4214d075bf72d9d324d357650...   \n",
       "1  e9126f469646506b8e82b4214d075bf72d9d324d357650...   \n",
       "2  e9126f469646506b8e82b4214d075bf72d9d324d357650...   \n",
       "3  e9126f469646506b8e82b4214d075bf72d9d324d357650...   \n",
       "4  e9126f469646506b8e82b4214d075bf72d9d324d357650...   \n",
       "\n",
       "                 usage_type  Day_1   Day_2   Day_3   Day_4   Day_5   Day_6  \\\n",
       "0           usage_app_other  53.00  130.73    7.86   67.71  153.38   35.92   \n",
       "1   usage_app_youtube_daily  98.50    0.00  284.82  150.05    0.00  261.89   \n",
       "2  usage_app_facebook_daily  79.42   72.61   72.15   82.82   61.06   57.91   \n",
       "3    usage_app_tiktok_daily  53.22   65.80   52.87   59.78   50.75   52.37   \n",
       "4  usage_app_whatsapp_daily   0.00    4.18   20.33    7.89   18.37    7.17   \n",
       "\n",
       "    Day_7  Day_8  ...  Day_81  Day_82  Day_83  Day_84  Day_85  Day_86  Day_87  \\\n",
       "0  128.60  30.61  ...     0.0     0.0     0.0     0.0    0.00     0.0     0.0   \n",
       "1   44.89   0.00  ...     0.0     0.0     0.0     0.0    0.00     0.0     0.0   \n",
       "2   55.59  56.46  ...     0.0     0.0     0.0     0.0    0.00     0.0     0.0   \n",
       "3   44.12  40.88  ...     0.0     0.0     0.0     0.0    0.00     0.0     0.0   \n",
       "4    5.22  12.77  ...     0.0     0.0     0.0     0.0    2.31     0.0     0.0   \n",
       "\n",
       "   Day_88  Day_89  Day_90  \n",
       "0     0.0    0.00     0.0  \n",
       "1     0.0   50.28     0.0  \n",
       "2     0.0    0.00     0.0  \n",
       "3     0.0    0.00     0.0  \n",
       "4     0.0    1.22     0.0  \n",
       "\n",
       "[5 rows x 92 columns]"
      ]
     },
     "execution_count": 9,
     "metadata": {},
     "output_type": "execute_result"
    }
   ],
   "source": [
    "import pandas as pd\n",
    "\n",
    "# Update filename accordingly\n",
    "df = pd.read_csv(os.path.join(path, \"main.csv\"))\n",
    "df.head()\n"
   ]
  },
  {
   "cell_type": "code",
   "execution_count": 10,
   "id": "0c9b7abe",
   "metadata": {},
   "outputs": [],
   "source": [
    "# Pivot app usage for each customer\n",
    "pivot_df = df.melt(id_vars=['customer_id', 'usage_type'], var_name='day', value_name='usage')\n",
    "agg_df = pivot_df.groupby(['customer_id', 'usage_type'])['usage'].sum().unstack(fill_value=0)\n",
    "\n",
    "agg_df['total_usage'] = agg_df.sum(axis=1)\n",
    "agg_df.reset_index(inplace=True)\n"
   ]
  },
  {
   "cell_type": "code",
   "execution_count": 11,
   "id": "fb5fdcb4",
   "metadata": {},
   "outputs": [],
   "source": [
    "# Assume churn = if last 15 days = 0 usage across all apps\n",
    "last_days = [f\"Day_{i}\" for i in range(76, 91)]\n",
    "df['sum_last_days'] = df[last_days].sum(axis=1)\n",
    "df['is_churned'] = df['sum_last_days'] == 0\n"
   ]
  },
  {
   "cell_type": "code",
   "execution_count": 12,
   "id": "afc9a4f5",
   "metadata": {},
   "outputs": [],
   "source": [
    "churn_df = df.groupby('customer_id')['is_churned'].max().reset_index()\n"
   ]
  },
  {
   "cell_type": "code",
   "execution_count": 13,
   "id": "ac0555ca",
   "metadata": {},
   "outputs": [
    {
     "ename": "ModuleNotFoundError",
     "evalue": "No module named 'shap'",
     "output_type": "error",
     "traceback": [
      "\u001b[1;31m---------------------------------------------------------------------------\u001b[0m",
      "\u001b[1;31mModuleNotFoundError\u001b[0m                       Traceback (most recent call last)",
      "Cell \u001b[1;32mIn[13], line 1\u001b[0m\n\u001b[1;32m----> 1\u001b[0m \u001b[38;5;28;01mimport\u001b[39;00m \u001b[38;5;21;01mshap\u001b[39;00m\n\u001b[0;32m      3\u001b[0m explainer \u001b[38;5;241m=\u001b[39m shap\u001b[38;5;241m.\u001b[39mTreeExplainer(model)\n\u001b[0;32m      4\u001b[0m shap_values \u001b[38;5;241m=\u001b[39m explainer\u001b[38;5;241m.\u001b[39mshap_values(X)\n",
      "\u001b[1;31mModuleNotFoundError\u001b[0m: No module named 'shap'"
     ]
    }
   ],
   "source": [
    "import shap\n",
    "\n",
    "explainer = shap.TreeExplainer(model)\n",
    "shap_values = explainer.shap_values(X)\n",
    "\n",
    "shap.summary_plot(shap_values, X)\n"
   ]
  },
  {
   "cell_type": "code",
   "execution_count": 14,
   "id": "5fdef966",
   "metadata": {},
   "outputs": [
    {
     "name": "stdout",
     "output_type": "stream",
     "text": [
      "Collecting shap\n",
      "  Downloading shap-0.47.2-cp311-cp311-win_amd64.whl (544 kB)\n",
      "                                              0.0/544.4 kB ? eta -:--:--\n",
      "     -                                     20.5/544.4 kB 640.0 kB/s eta 0:00:01\n",
      "     --                                    41.0/544.4 kB 487.6 kB/s eta 0:00:02\n",
      "     -------                              112.6/544.4 kB 939.4 kB/s eta 0:00:01\n",
      "     --------                             122.9/544.4 kB 722.1 kB/s eta 0:00:01\n",
      "     --------                             122.9/544.4 kB 722.1 kB/s eta 0:00:01\n",
      "     -----------                          174.1/544.4 kB 655.4 kB/s eta 0:00:01\n",
      "     -----------                          174.1/544.4 kB 655.4 kB/s eta 0:00:01\n",
      "     ------------                         194.6/544.4 kB 562.0 kB/s eta 0:00:01\n",
      "     --------------                       225.3/544.4 kB 573.4 kB/s eta 0:00:01\n",
      "     --------------                       225.3/544.4 kB 573.4 kB/s eta 0:00:01\n",
      "     --------------                       225.3/544.4 kB 573.4 kB/s eta 0:00:01\n",
      "     --------------                       225.3/544.4 kB 573.4 kB/s eta 0:00:01\n",
      "     --------------                       225.3/544.4 kB 573.4 kB/s eta 0:00:01\n",
      "     --------------                       225.3/544.4 kB 573.4 kB/s eta 0:00:01\n",
      "     --------------                       225.3/544.4 kB 573.4 kB/s eta 0:00:01\n",
      "     ----------------                     256.0/544.4 kB 341.8 kB/s eta 0:00:01\n",
      "     --------------------                 307.2/544.4 kB 404.6 kB/s eta 0:00:01\n",
      "     ---------------------                327.7/544.4 kB 406.5 kB/s eta 0:00:01\n",
      "     ---------------------                327.7/544.4 kB 406.5 kB/s eta 0:00:01\n",
      "     ----------------------               337.9/544.4 kB 355.4 kB/s eta 0:00:01\n",
      "     ------------------------             368.6/544.4 kB 382.1 kB/s eta 0:00:01\n",
      "     -------------------------            389.1/544.4 kB 391.0 kB/s eta 0:00:01\n",
      "     -------------------------            389.1/544.4 kB 391.0 kB/s eta 0:00:01\n",
      "     -------------------------            389.1/544.4 kB 391.0 kB/s eta 0:00:01\n",
      "     -------------------------            389.1/544.4 kB 391.0 kB/s eta 0:00:01\n",
      "     -----------------------------        450.6/544.4 kB 375.7 kB/s eta 0:00:01\n",
      "     -----------------------------------  532.5/544.4 kB 423.2 kB/s eta 0:00:01\n",
      "     ------------------------------------ 544.4/544.4 kB 422.0 kB/s eta 0:00:00\n",
      "Requirement already satisfied: numpy in d:\\anaconda\\lib\\site-packages (from shap) (1.24.3)\n",
      "Requirement already satisfied: scipy in d:\\anaconda\\lib\\site-packages (from shap) (1.10.1)\n",
      "Requirement already satisfied: scikit-learn in d:\\anaconda\\lib\\site-packages (from shap) (1.2.2)\n",
      "Requirement already satisfied: pandas in d:\\anaconda\\lib\\site-packages (from shap) (1.5.3)\n",
      "Requirement already satisfied: tqdm>=4.27.0 in d:\\anaconda\\lib\\site-packages (from shap) (4.65.0)\n",
      "Requirement already satisfied: packaging>20.9 in d:\\anaconda\\lib\\site-packages (from shap) (23.0)\n",
      "Collecting slicer==0.0.8 (from shap)\n",
      "  Downloading slicer-0.0.8-py3-none-any.whl (15 kB)\n",
      "Requirement already satisfied: numba>=0.54 in d:\\anaconda\\lib\\site-packages (from shap) (0.57.0)\n",
      "Requirement already satisfied: cloudpickle in d:\\anaconda\\lib\\site-packages (from shap) (2.2.1)\n",
      "Requirement already satisfied: typing-extensions in d:\\anaconda\\lib\\site-packages (from shap) (4.6.3)\n",
      "Requirement already satisfied: llvmlite<0.41,>=0.40.0dev0 in d:\\anaconda\\lib\\site-packages (from numba>=0.54->shap) (0.40.0)\n",
      "Requirement already satisfied: colorama in d:\\anaconda\\lib\\site-packages (from tqdm>=4.27.0->shap) (0.4.6)\n",
      "Requirement already satisfied: python-dateutil>=2.8.1 in d:\\anaconda\\lib\\site-packages (from pandas->shap) (2.8.2)\n",
      "Requirement already satisfied: pytz>=2020.1 in d:\\anaconda\\lib\\site-packages (from pandas->shap) (2022.7)\n",
      "Requirement already satisfied: joblib>=1.1.1 in d:\\anaconda\\lib\\site-packages (from scikit-learn->shap) (1.2.0)\n",
      "Requirement already satisfied: threadpoolctl>=2.0.0 in d:\\anaconda\\lib\\site-packages (from scikit-learn->shap) (2.2.0)\n",
      "Requirement already satisfied: six>=1.5 in d:\\anaconda\\lib\\site-packages (from python-dateutil>=2.8.1->pandas->shap) (1.16.0)\n",
      "Installing collected packages: slicer, shap\n",
      "Successfully installed shap-0.47.2 slicer-0.0.8\n"
     ]
    }
   ],
   "source": [
    "!pip install shap\n"
   ]
  },
  {
   "cell_type": "code",
   "execution_count": 1,
   "id": "2c2a85cf",
   "metadata": {},
   "outputs": [
    {
     "ename": "NameError",
     "evalue": "name 'model' is not defined",
     "output_type": "error",
     "traceback": [
      "\u001b[1;31m---------------------------------------------------------------------------\u001b[0m",
      "\u001b[1;31mNameError\u001b[0m                                 Traceback (most recent call last)",
      "Cell \u001b[1;32mIn[1], line 3\u001b[0m\n\u001b[0;32m      1\u001b[0m \u001b[38;5;28;01mimport\u001b[39;00m \u001b[38;5;21;01mshap\u001b[39;00m\n\u001b[1;32m----> 3\u001b[0m explainer \u001b[38;5;241m=\u001b[39m shap\u001b[38;5;241m.\u001b[39mTreeExplainer(model)\n\u001b[0;32m      4\u001b[0m shap_values \u001b[38;5;241m=\u001b[39m explainer\u001b[38;5;241m.\u001b[39mshap_values(X)\n",
      "\u001b[1;31mNameError\u001b[0m: name 'model' is not defined"
     ]
    }
   ],
   "source": [
    "import shap\n",
    "\n",
    "explainer = shap.TreeExplainer(model)\n",
    "shap_values = explainer.shap_values(X)\n"
   ]
  },
  {
   "cell_type": "code",
   "execution_count": 4,
   "id": "87ab7824",
   "metadata": {},
   "outputs": [],
   "source": [
    "import pandas as pd\n",
    "\n",
    "# Load dataset\n",
    "df = pd.read_csv(r\"C:\\Users\\SHAIVIK\\.cache\\kagglehub\\datasets\\lasaljaywardena\\real-world-churn\\versions\\1\\main.csv\")  # replace with your actual path\n",
    "\n",
    "# Sum up daily usage per customer across all apps\n",
    "daily_columns = [col for col in df.columns if col.startswith(\"Day_\")]\n",
    "agg_df = df.groupby(\"customer_id\")[daily_columns].sum().reset_index()\n",
    "\n",
    "# Optional: Add total usage, average, or standard deviation as features\n",
    "agg_df[\"total_usage\"] = agg_df[daily_columns].sum(axis=1)\n",
    "agg_df[\"avg_daily_usage\"] = agg_df[daily_columns].mean(axis=1)\n",
    "agg_df[\"std_daily_usage\"] = agg_df[daily_columns].std(axis=1)\n"
   ]
  },
  {
   "cell_type": "code",
   "execution_count": 5,
   "id": "360abb77",
   "metadata": {},
   "outputs": [],
   "source": [
    "df_melted = df.melt(id_vars=[\"customer_id\", \"usage_type\"], \n",
    "                    var_name=\"day\", value_name=\"usage\")\n",
    "\n",
    "# Pivot to get usage per app per customer\n",
    "pivoted = df_melted.pivot_table(index=\"customer_id\", \n",
    "                                columns=\"usage_type\", \n",
    "                                values=\"usage\", \n",
    "                                aggfunc=\"sum\").reset_index()\n",
    "\n",
    "pivoted.columns = ['customer_id'] + [f\"total_{col}\" for col in pivoted.columns[1:]]\n"
   ]
  },
  {
   "cell_type": "code",
   "execution_count": 6,
   "id": "08863f02",
   "metadata": {},
   "outputs": [],
   "source": [
    "import numpy as np\n",
    "pivoted[\"churn\"] = np.where(pivoted[\"total_usage_app_whatsapp_daily\"] < 100, 1, 0)  # Example condition\n"
   ]
  },
  {
   "cell_type": "code",
   "execution_count": 7,
   "id": "bf59b996",
   "metadata": {},
   "outputs": [],
   "source": [
    "from sklearn.model_selection import train_test_split\n",
    "\n",
    "X = pivoted.drop([\"customer_id\", \"churn\"], axis=1)\n",
    "y = pivoted[\"churn\"]\n",
    "\n",
    "X_train, X_test, y_train, y_test = train_test_split(X, y, test_size=0.2, random_state=42)\n"
   ]
  },
  {
   "cell_type": "code",
   "execution_count": 8,
   "id": "3fdbf107",
   "metadata": {},
   "outputs": [
    {
     "name": "stdout",
     "output_type": "stream",
     "text": [
      "              precision    recall  f1-score   support\n",
      "\n",
      "           0       1.00      1.00      1.00     12571\n",
      "           1       1.00      1.00      1.00       430\n",
      "\n",
      "    accuracy                           1.00     13001\n",
      "   macro avg       1.00      1.00      1.00     13001\n",
      "weighted avg       1.00      1.00      1.00     13001\n",
      "\n"
     ]
    }
   ],
   "source": [
    "from sklearn.ensemble import RandomForestClassifier\n",
    "from sklearn.metrics import classification_report\n",
    "\n",
    "model = RandomForestClassifier()\n",
    "model.fit(X_train, y_train)\n",
    "\n",
    "y_pred = model.predict(X_test)\n",
    "print(classification_report(y_test, y_pred))\n"
   ]
  },
  {
   "cell_type": "code",
   "execution_count": 9,
   "id": "27e57814",
   "metadata": {},
   "outputs": [
    {
     "ename": "AssertionError",
     "evalue": "The shape of the shap_values matrix does not match the shape of the provided data matrix.",
     "output_type": "error",
     "traceback": [
      "\u001b[1;31m---------------------------------------------------------------------------\u001b[0m",
      "\u001b[1;31mAssertionError\u001b[0m                            Traceback (most recent call last)",
      "Cell \u001b[1;32mIn[9], line 6\u001b[0m\n\u001b[0;32m      3\u001b[0m shap_values \u001b[38;5;241m=\u001b[39m explainer\u001b[38;5;241m.\u001b[39mshap_values(X)\n\u001b[0;32m      5\u001b[0m \u001b[38;5;66;03m# Summary Plot\u001b[39;00m\n\u001b[1;32m----> 6\u001b[0m shap\u001b[38;5;241m.\u001b[39msummary_plot(shap_values[\u001b[38;5;241m1\u001b[39m], X)\n",
      "File \u001b[1;32mD:\\anaconda\\Lib\\site-packages\\shap\\plots\\_beeswarm.py:667\u001b[0m, in \u001b[0;36msummary_legacy\u001b[1;34m(shap_values, features, feature_names, max_display, plot_type, color, axis_color, title, alpha, show, sort, color_bar, plot_size, layered_violin_max_num_bins, class_names, class_inds, color_bar_label, cmap, show_values_in_legend, use_log_scale, rng)\u001b[0m\n\u001b[0;32m    662\u001b[0m         \u001b[38;5;28;01mraise\u001b[39;00m \u001b[38;5;167;01mValueError\u001b[39;00m(\n\u001b[0;32m    663\u001b[0m             shape_msg \u001b[38;5;241m+\u001b[39m \u001b[38;5;124m\"\u001b[39m\u001b[38;5;124m Perhaps the extra column in the shap_values matrix is the \u001b[39m\u001b[38;5;124m\"\u001b[39m\n\u001b[0;32m    664\u001b[0m             \u001b[38;5;124m\"\u001b[39m\u001b[38;5;124mconstant offset? Of so just pass shap_values[:,:-1].\u001b[39m\u001b[38;5;124m\"\u001b[39m\n\u001b[0;32m    665\u001b[0m         )\n\u001b[0;32m    666\u001b[0m     \u001b[38;5;28;01melse\u001b[39;00m:\n\u001b[1;32m--> 667\u001b[0m         \u001b[38;5;28;01massert\u001b[39;00m num_features \u001b[38;5;241m==\u001b[39m features\u001b[38;5;241m.\u001b[39mshape[\u001b[38;5;241m1\u001b[39m], shape_msg\n\u001b[0;32m    669\u001b[0m \u001b[38;5;28;01mif\u001b[39;00m feature_names \u001b[38;5;129;01mis\u001b[39;00m \u001b[38;5;28;01mNone\u001b[39;00m:\n\u001b[0;32m    670\u001b[0m     feature_names \u001b[38;5;241m=\u001b[39m np\u001b[38;5;241m.\u001b[39marray([labels[\u001b[38;5;124m\"\u001b[39m\u001b[38;5;124mFEATURE\u001b[39m\u001b[38;5;124m\"\u001b[39m] \u001b[38;5;241m%\u001b[39m \u001b[38;5;28mstr\u001b[39m(i) \u001b[38;5;28;01mfor\u001b[39;00m i \u001b[38;5;129;01min\u001b[39;00m \u001b[38;5;28mrange\u001b[39m(num_features)])\n",
      "\u001b[1;31mAssertionError\u001b[0m: The shape of the shap_values matrix does not match the shape of the provided data matrix."
     ]
    },
    {
     "data": {
      "text/plain": [
       "<Figure size 640x480 with 0 Axes>"
      ]
     },
     "metadata": {},
     "output_type": "display_data"
    }
   ],
   "source": [
    "import shap\n",
    "explainer = shap.TreeExplainer(model)\n",
    "shap_values = explainer.shap_values(X)\n",
    "\n",
    "# Summary Plot\n",
    "shap.summary_plot(shap_values[1], X)  # class 1 = churn\n"
   ]
  },
  {
   "cell_type": "code",
   "execution_count": 10,
   "id": "3c7c3d89",
   "metadata": {},
   "outputs": [
    {
     "data": {
      "text/plain": [
       "(numpy.ndarray, 65005, (12, 2), (65005, 12))"
      ]
     },
     "execution_count": 10,
     "metadata": {},
     "output_type": "execute_result"
    }
   ],
   "source": [
    "type(shap_values), len(shap_values), shap_values[0].shape, X.shape\n"
   ]
  },
  {
   "cell_type": "code",
   "execution_count": 11,
   "id": "20fff84b",
   "metadata": {},
   "outputs": [
    {
     "data": {
      "image/png": "[encoded data removed]",
      "text/plain": [
       "<Figure size 800x630 with 2 Axes>"
      ]
     },
     "metadata": {},
     "output_type": "display_data"
    }
   ],
   "source": [
    "import shap\n",
    "\n",
    "# SHAP explainer\n",
    "explainer = shap.TreeExplainer(model)\n",
    "shap_values = explainer.shap_values(X)\n",
    "\n",
    "# For binary classification, use class 1 (churned)\n",
    "shap.summary_plot(shap_values[:, :, 1], X)\n"
   ]
  },
  {
   "cell_type": "code",
   "execution_count": 14,
   "id": "a4e2d3b8",
   "metadata": {},
   "outputs": [],
   "source": [
    "pivoted[\"prediction\"] = model.predict(X)\n",
    "pivoted[\"segment\"] = np.select(\n",
    "    [\n",
    "        pivoted[\"prediction\"] == 1,\n",
    "        pivoted[X.columns].mean(axis=1) > 500\n",
    "    ],\n",
    "    [\"At Risk\", \"Loyal\"],\n",
    "    default=\"Dormant\"\n",
    ")\n"
   ]
  },
  {
   "cell_type": "code",
   "execution_count": 15,
   "id": "e8076e22",
   "metadata": {},
   "outputs": [],
   "source": [
    "pivoted.to_csv(\"customer_churn_segmented.csv\", index=False)\n"
   ]
  },
  {
   "cell_type": "code",
   "execution_count": null,
   "id": "cc8ac9e0",
   "metadata": {},
   "outputs": [],
   "source": []
  }
 ],
 "metadata": {
  "kernelspec": {
   "display_name": "Python 3 (ipykernel)",
   "language": "python",
   "name": "python3"
  },
  "language_info": {
   "codemirror_mode": {
    "name": "ipython",
    "version": 3
   },
   "file_extension": ".py",
   "mimetype": "text/x-python",
   "name": "python",
   "nbconvert_exporter": "python",
   "pygments_lexer": "ipython3",
   "version": "3.11.3"
  }
 },
 "nbformat": 4,
 "nbformat_minor": 5
}
